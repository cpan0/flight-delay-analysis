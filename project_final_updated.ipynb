{
 "cells": [
  {
   "cell_type": "markdown",
   "id": "137c49e2-cdaa-406a-bdad-df33b764dff4",
   "metadata": {
    "tags": []
   },
   "source": [
    "# <center>Project Proposal: Analysis and Prediction of Flight Delays</center>\n",
    "#### **Authors:** Longfei Guan, Cheng Zhang, Heidi Lantz, Clare Pan\n",
    "#### **Group:** 20"
   ]
  },
  {
   "cell_type": "markdown",
   "id": "f28e2e4a-5d9c-492a-b48d-0add83833581",
   "metadata": {},
   "source": [
    "## 1. Introduction"
   ]
  },
  {
   "cell_type": "markdown",
   "id": "e327a9f9-cc9a-4f4d-a66f-4a1bc49b7e25",
   "metadata": {},
   "source": [
    "In recent years, the air transport industry has grown rapidly. It promotes tourism, generates economic growth, and provides employment opportunities (Air Transport Action Group, 2022). However, there is no denying that flight delays are becoming more frequent. The Federal Aviation Administration (FAA) considers a flight to be delayed if it departs 15 minutes after the scheduled time (Trefis Team, 2016). Delays not only inconvenience passengers but also cost airlines billions of dollars and disrupt airport operations, damaging the airline's reputation (Wang et al., 2019). Because airline industries across the world take up a great part of the global economy, the number of flight delays could have a significant impact on customers’ satisfaction with the airlines. Therefore, it is important to investigate and understand the key factors that can influence flight delays. \n",
    "\n",
    "This project will use the 2015 Flight Delays and Cancellations dataset published by the U.S. Department of Transportation (2017) to investigate the possible variables that are associated with flight delays and make predictions about the average departure time delay based on the conclusion. \n",
    "\n",
    "The dataset includes 14 unique airlines from the United States, but for this project, we will select Delta Airlines as our subject. Delta Airlines is currently the second-largest airline in the world in terms of total U.S. passenger miles and passenger fleet size, and it is a founding member of the SkyTeam alliance, which has more than 325 destinations in 52 countries on six continents (Wikipedia, 2022). We suppose the study of Delta Airlines will be representative and generalizable for the US airline population. We will examine thirteen potential factors from a total of 31 variables that influence airline delays. \n",
    "\n",
    "These 13 variables include `MONTH`, `DAY`, `DAY_OF_WEEK`, `AIRLINE`, `ORIGIN_AIRPORT`, `DESTINATION_AIRPORT`, `SCHEDULED_DEPARTURE`, `DEPARTURE_TIME`, `DEPARTURE_DELAY`, `SCHEDULED_TIME`, `ELAPSED_TIME`, `AIR_TIME`, and `DISTANCE`. After determining which of the 13 factors can affect airplane delay times, we will use these variables to predict delta airline delay time. We mainly selected those variables because the size of the original dataset is too large and factored out the variables that have little to no effect on the final model, such as the airplane’s tail number, whether the flight was cancelled or not, etc. After determining which of the 13 factors can affect airplane delay times, we will use these variables to predict delta airline delay time."
   ]
  },
  {
   "cell_type": "markdown",
   "id": "65147eec-db2e-40f9-8316-bffbfc8157c2",
   "metadata": {},
   "source": [
    "<center><img src=\"image/flight_delay_image.jpeg\"/></center>\n",
    "\n",
    "**Figure 1** Image source: https://www.nortonrosefulbright.com/fr-ca/nrf-transform/client-stories/managing-flight-delay-claims "
   ]
  },
  {
   "cell_type": "markdown",
   "id": "6e897483-fdeb-464f-bcab-968694b61841",
   "metadata": {},
   "source": [
    "- `MONTH`: month of the flight trips\n",
    "- `DAY`: day of the Flight Trip\n",
    "- `DAY_OF_WEEK`: day of week of the flight trip\n",
    "- `AIRLINE`: airline identifier (in our dataset, only one airline: DL (Delta Airlines))\n",
    "- `ORIGIN_AIRPORT`: starting airport\n",
    "- `DESTINATION_AIRPORT`: destination airport\n",
    "- `SCHEDULED_DEPARTUR`: planned departure time (format HHMM or HMM,  where HH or H = hour and MM = minutes)\n",
    "- `DEPARTURE_TIME`: time of departure (format HHMM or HMM)\n",
    "- `DEPARTURE_DELAY`: total delay on departure, in minutes (negative times represent early departures)\n",
    "- `SCHEDULED_TIME`: planned time amount needed for the flight trip, in minutes\n",
    "- `ELAPSED_TIME`: total flight duration, including taking off, air time, and landing, in minutes\n",
    "- `AIR_TIME`: flight duration of the time in air, in minutes \n",
    "- `DISTANCE`: distance between two airports, in miles"
   ]
  },
  {
   "cell_type": "markdown",
   "id": "4d31372d-7670-463b-bcb2-db75219f2a24",
   "metadata": {},
   "source": [
    "## 2. Preliminary Results"
   ]
  },
  {
   "cell_type": "markdown",
   "id": "58ade869-d860-4c35-b1bd-054f52d266f8",
   "metadata": {},
   "source": [
    "### Loading relevant libraries"
   ]
  },
  {
   "cell_type": "code",
   "execution_count": null,
   "id": "dbfd7e52-02b6-4dc9-8dd6-079ef909c37a",
   "metadata": {},
   "outputs": [],
   "source": [
    "library (tidyverse)\n",
    "library (repr)\n",
    "library (infer)\n",
    "library (broom)\n",
    "library (GGally)\n",
    "library (car)\n",
    "\n",
    "options(warn=-1)"
   ]
  },
  {
   "cell_type": "markdown",
   "id": "0eecaf11-214a-48e0-9096-fa3d6c5727e6",
   "metadata": {},
   "source": [
    "### Reading & cleaning the datasets"
   ]
  },
  {
   "cell_type": "markdown",
   "id": "b0aa2dff-f0ec-43e9-9309-f5f7737b9f7e",
   "metadata": {},
   "source": [
    "* Since the origianl dataset is too huge(592.4MB), we selected and filtered the variables that we specified in the introduction. Then uploaded the dataset onto Github and loaded the data by read_csv(). "
   ]
  },
  {
   "cell_type": "code",
   "execution_count": null,
   "id": "77f47ea4-19ba-4ce6-9470-885fabbb17da",
   "metadata": {},
   "outputs": [],
   "source": [
    "flight_data <- read_csv(\"delta_flights.csv\")\n",
    "flight_data <- flight_data[complete.cases(flight_data), ] %>%\n",
    "  select(-...1,- replicate,-AIRLINE)\n",
    "head(flight_data)"
   ]
  },
  {
   "cell_type": "markdown",
   "id": "5654a5b1-72cd-4dda-af6a-5e2d41015476",
   "metadata": {},
   "source": [
    "**Table 1:** Modified version of the Flight Delay dataset. "
   ]
  },
  {
   "cell_type": "code",
   "execution_count": null,
   "id": "37de655e-a2a4-4bd8-8ef8-bd6abb5cb443",
   "metadata": {},
   "outputs": [],
   "source": [
    "# total levels of the origin airport\n",
    "cat(\"Number of Origin Airport levels =\", nrow(count(flight_data, ORIGIN_AIRPORT)))"
   ]
  },
  {
   "cell_type": "code",
   "execution_count": null,
   "id": "3cc3c2df-ea57-48a3-9c64-75645da6f947",
   "metadata": {},
   "outputs": [],
   "source": [
    "# top 3 origin airports with their mean delay time\n",
    "top_3_Origin_Airport_Counts <- count(flight_data, ORIGIN_AIRPORT) %>% filter(n >300)\n",
    "top_3_Origin_Airport <- flight_data %>% \n",
    "filter (ORIGIN_AIRPORT == \"ATL\" | ORIGIN_AIRPORT == \"DTW\" | ORIGIN_AIRPORT == \"MSP\") %>%\n",
    "group_by(ORIGIN_AIRPORT) %>%\n",
    "summarize(mean = mean(DEPARTURE_DELAY))\n",
    "cbind(top_3_Origin_Airport_Counts,top_3_Origin_Airport[,2])"
   ]
  },
  {
   "cell_type": "markdown",
   "id": "262f87a1-9bf1-446a-a45f-2d863483c2ef",
   "metadata": {},
   "source": [
    "**Table 2** Number of delayed flights and the average minutes of departure delay for the top 3 *origin airports* with the most data."
   ]
  },
  {
   "cell_type": "code",
   "execution_count": null,
   "id": "1b1899b2-8753-4ae9-bb8a-6efa68e89748",
   "metadata": {},
   "outputs": [],
   "source": [
    "# total levels of the destination airport\n",
    "cat(\"Number of Destination Airport levels =\", nrow(count(flight_data, DESTINATION_AIRPORT)))"
   ]
  },
  {
   "cell_type": "code",
   "execution_count": null,
   "id": "2235a928-a40d-4038-acc9-4cec75dee76a",
   "metadata": {},
   "outputs": [],
   "source": [
    "# top 3 destination airports with their mean delay time\n",
    "top_3_Destination_Airport_Counts <- count(flight_data, DESTINATION_AIRPORT) %>% filter(n >300)\n",
    "top_3_Destination_Airport <- flight_data %>% \n",
    "filter (DESTINATION_AIRPORT == \"ATL\" | DESTINATION_AIRPORT == \"DTW\" | DESTINATION_AIRPORT == \"MSP\") %>%\n",
    "group_by(DESTINATION_AIRPORT) %>%\n",
    "summarize(mean = mean(DEPARTURE_DELAY))\n",
    "cbind(top_3_Destination_Airport_Counts,top_3_Destination_Airport[,2])\n",
    "flight_data <- flight_data %>%\n",
    "  select(-ORIGIN_AIRPORT,-DESTINATION_AIRPORT)"
   ]
  },
  {
   "cell_type": "markdown",
   "id": "04e359b3-d0fe-4219-b052-967ea2580383",
   "metadata": {},
   "source": [
    "**Table 3** Number of delayed flights and the average minutes of departure delay for the top 3 *destination airports* with the most data."
   ]
  },
  {
   "cell_type": "markdown",
   "id": "ada07b2c-3b70-47e2-9012-fdd357a2da23",
   "metadata": {},
   "source": [
    "* We begin by checking for the association of the explanatory variables with the response variables. ggparis() could help us visualize it.\n",
    "* There are too many distinct values in ORIGIN_AIRPORT and DESTINATION_AIRPORT, so we filter out these two categorical variables."
   ]
  },
  {
   "cell_type": "code",
   "execution_count": null,
   "id": "1be27d21-7400-40f7-a409-3a3f4595111a",
   "metadata": {},
   "outputs": [],
   "source": [
    "options(repr.plot.width = 15, repr.plot.height = 10)\n",
    "flight_pair_plots <- flight_data%>% \n",
    "  ggpairs(progress = FALSE) +\n",
    "  theme(\n",
    "    text = element_text(size = 10),\n",
    "    plot.title = element_text(face = \"bold\"),\n",
    "    axis.title = element_text(face = \"bold\")\n",
    "  )\n",
    "flight_pair_plots"
   ]
  },
  {
   "cell_type": "markdown",
   "id": "45631519-cfc6-44eb-beda-ed3f971dc176",
   "metadata": {},
   "source": [
    "**Figure 2** Pair plot for explanatory and response variables of `flight_data`"
   ]
  },
  {
   "cell_type": "markdown",
   "id": "e288d045-b2d8-43cb-b3fd-1fe89040e8f1",
   "metadata": {},
   "source": [
    "* DEPARTURE_DELAY is weakly correlated with all explanatory variables except for SCHEDULED_DEPARTURE and DEPARTURE_TIME.\n",
    "* DEPARTURE_DELAY has a correlation coefficient value of 0.083 and 0.106 with SCHEDULED_DEPARTURE and DEPARTURE_TIME, respectively. The correlation coefficient value between DEPARTURE_DELAY and other explanatory variables are < 0.01."
   ]
  },
  {
   "cell_type": "markdown",
   "id": "cdf9e9c6-74fc-46d9-b2b9-a6c7cbad79c8",
   "metadata": {},
   "source": [
    "### Exploratory Data Analysis"
   ]
  },
  {
   "cell_type": "markdown",
   "id": "2df0f02c-a88b-4127-bf01-299fa0b652f3",
   "metadata": {},
   "source": [
    "* We did the similar things here but we only compared explanatory variables.\n",
    "* This will help us diagnose if there is multicollinearity issue in our model.\n",
    "\n",
    "* In order to analysis the correlation between DEPARTURE_DELAY and the rest continous variables, we fliter out all categorical variables."
   ]
  },
  {
   "cell_type": "code",
   "execution_count": null,
   "id": "17234856-4039-4c84-a9fc-8f7b35ae8f1a",
   "metadata": {},
   "outputs": [],
   "source": [
    "corr_matrix_flight <- flight_data %>% \n",
    "  cor() %>%\n",
    "  as.data.frame() %>%\n",
    "  rownames_to_column(\"var1\") %>%\n",
    "  pivot_longer(-var1, names_to = \"var2\", values_to = \"corr\")"
   ]
  },
  {
   "cell_type": "code",
   "execution_count": null,
   "id": "e89625de-c2f0-4dba-96c5-456e6a14e72f",
   "metadata": {},
   "outputs": [],
   "source": [
    "options(repr.plot.width = 10, repr.plot.height = 10)\n",
    "corr_matrix_flight_plot <- corr_matrix_flight %>%\n",
    "  ggplot(aes(var1, var2)) +\n",
    "  geom_tile(aes(fill = corr), color = \"white\") +\n",
    "  scale_fill_distiller(\"Correlation Coefficient \\n\",\n",
    "    palette =  \"PuBu\",\n",
    "    direction = 1, limits = c(-1,1)\n",
    "  ) +\n",
    "  labs(x = \"Input Variable One\", y = \"Input Variable Two\") +\n",
    "  theme_minimal() +\n",
    "  theme(\n",
    "    axis.text.x = element_text(\n",
    "      angle = 45, vjust = 1,\n",
    "      size = 10, hjust = 1\n",
    "    ),\n",
    "    axis.text.y = element_text(\n",
    "      vjust = 1,\n",
    "      size = 10, hjust = 1\n",
    "    ),\n",
    "    legend.title = element_text(size = 10, face = \"bold\"),\n",
    "    legend.text = element_text(size = 10),\n",
    "    legend.key.size = unit(2, \"cm\")\n",
    "  ) +\n",
    "  coord_fixed() +\n",
    "  geom_text(aes(var1, var2, label = round(corr, 2)), color = \"black\", size = 6)\n",
    "corr_matrix_flight_plot"
   ]
  },
  {
   "cell_type": "markdown",
   "id": "8257045d-a5e2-4db1-8642-6eb809f188cf",
   "metadata": {},
   "source": [
    "**Figure 3** Correlation tiles between different inputs of `flight_data` variables. The darker values of blue shows that the corresponding input variable 1 and 2 have a strong positive correlation."
   ]
  },
  {
   "cell_type": "markdown",
   "id": "952539bd-9233-4b58-ab90-8f95a04e703f",
   "metadata": {},
   "source": [
    "* There are several strong positive correlations in the graph, which suggests that there are multicollinearity among the explanatory variables."
   ]
  },
  {
   "cell_type": "markdown",
   "id": "ab3fbbd5-84cc-4bcf-8ffa-f58667400cbb",
   "metadata": {
    "tags": []
   },
   "source": [
    "### Summary Table"
   ]
  },
  {
   "cell_type": "markdown",
   "id": "d10dec92-bec2-44c0-9be4-be71ec17df12",
   "metadata": {},
   "source": [
    "* We applied gather() to convert the dataset into a long format, then used summarise() to obtain summary statistic for all interested variables."
   ]
  },
  {
   "cell_type": "code",
   "execution_count": null,
   "id": "297b8a23-8714-4ecf-8f6a-4c72c0f53e07",
   "metadata": {},
   "outputs": [],
   "source": [
    "flight_data_long <- flight_data %>%\n",
    "  gather(factor_key=TRUE)\n",
    "flight_data_stats <- flight_data_long %>% group_by(key) %>%\n",
    "  summarise(mean= mean(value), sd= sd(value), max = max(value),min = min(value))\n",
    "flight_data_stats"
   ]
  },
  {
   "cell_type": "markdown",
   "id": "0e3114f7-a005-43f2-a032-ab78dfcaf350",
   "metadata": {},
   "source": [
    "**Table 2:** Summary statistics for all variables in `flight_data` "
   ]
  },
  {
   "cell_type": "markdown",
   "id": "36f69631-5f91-4983-a7cb-88e0fb6ceb41",
   "metadata": {},
   "source": [
    "* Since variables `MONTH`, `DAY`, and `DAY_OF_WEEK` are discrete variables, we descide to convert them into several binary variable in order for fitting the model.\n",
    "* We convert variable `MONTH` into two binary variables: `SPRING`(1 <= MONTH <= 4), `SUMMER`(5 <= MONTH <= 8), and `WINTER`(9 <= MONTH <= 12).\n",
    "* We convert variable `DAY` into three binary variables: `START_OF_MONTH`(1 <= DAY <= 10), `MIDDLE_OF_MONTH`(11 <= DAY <= 20), and `END_OF_MONTH`(21 <= DAY <= 31).\n",
    "* We convert variable `DAY_OF_WEEK` into two variables: `BUSINESS_DAY`(1 <= DAY_OF_WEEK <= 5), and `HOILDAY`(6 <=  DAY_OF_WEEK <= 7)."
   ]
  },
  {
   "cell_type": "code",
   "execution_count": null,
   "id": "706ce5c5-1907-407d-bbbe-cb85fed71add",
   "metadata": {},
   "outputs": [],
   "source": [
    "flight_data <- within(flight_data, {   \n",
    "  flight_day <- NA \n",
    "  flight_month <- NA \n",
    "  flight_day_of_week <- NA \n",
    "  flight_day[DAY <= 10] <- \"START_OF_MONTH\"\n",
    "  flight_day[DAY >= 11 & DAY <= 20] <- \"MIDDLE_OF_MONTH\"\n",
    "  flight_day[DAY >= 21] <- \"END_OF_MONTH\"\n",
    "  flight_month[MONTH <= 4] <- \"SPRING\"\n",
    "  flight_month[MONTH >= 5 & MONTH <= 8] <- \"SUMMER\"\n",
    "  flight_month[MONTH >= 9] <- \"WINTER\"\n",
    "  flight_day_of_week[DAY_OF_WEEK <= 5] <- \"BUSINESS_DAY\"\n",
    "  flight_day_of_week[DAY_OF_WEEK > 5] <- \"HOILDAY\"\n",
    "   } ) %>% select(-DAY,- MONTH,-DAY_OF_WEEK)\n",
    "\n",
    "flight_data$flight_day <- as.factor(flight_data$flight_day)\n",
    "flight_data$flight_month <- as.factor(flight_data$flight_month)\n",
    "flight_data$flight_day_of_week <- as.factor(flight_data$flight_day_of_week)\n",
    " \n",
    "head(flight_data)"
   ]
  },
  {
   "cell_type": "markdown",
   "id": "b17ddcda-681d-4c8a-ac6f-ae07cef14f2a",
   "metadata": {},
   "source": [
    "**Table 3** Flight delay data with categorical variables"
   ]
  },
  {
   "cell_type": "markdown",
   "id": "194e0757-694b-4c37-9d23-d65e090859c0",
   "metadata": {},
   "source": [
    "## 3. Methods and Results"
   ]
  },
  {
   "cell_type": "markdown",
   "id": "b542012c-dd4d-4262-8d54-2f7e391a8024",
   "metadata": {},
   "source": [
    "In our analysis, we are predicting average flight delays for Delta’s airline in 2015. In this report, we began by loading our dataset from Kaggle, and tidying the data in order to select the variables and columns that we are investigating. For initial visualizations, we began by checking the correlation of variables, as we want to see which variables would be best to predict departure delay time. We made a correlation matrix plot which shows us that some variables are highly correlated. We could also tell that there exist some high amounts of multicollinearity between certain variables. We believe that this report is trustworthy because we have collected real data from a very large data set. From a sample of over 800,000 individual samples, we took a random sample of 5,000 to make sure we do not have a biased sample. We also believe that since there is so much data, we can generate an accurate model that will allow us to have accurate predictions on delay time in flights. We will also be able to test our model to see how accurately it can predict departure delay.\n",
    "\n",
    "We plan on making a generative model to determine flight delay time, as well as confidence intervals to determine how accurate our model is. We will be splitting our data set into test and training data, and then using a forward stepwise selection process to determine the most accurate model we can make. From there, we can make our best fit model and then test how well we are able to predict departure delay time.\n",
    "\n",
    "We hope to achieve an accurate model that correctly predicts flight delays. This way, we can make true evaluations on flights with Delta and how likely your flight is to be delayed. This leads to a large impact because everyone can use this data in their own lives. For example, if we find that one airport location is a lot more likely to be delayed with delta, we may be more cautious and avoid flying there for a layover. Furthermore, you can use these calculations to compare with other airline companies to figure out which airline is the most reliable and has the least flight delays. Many applications are useful with this information and our analysis. Overall, this analysis creates a huge impact because flights are common and understanding the reasoning behind flight delays is extremely helpful.\n"
   ]
  },
  {
   "cell_type": "code",
   "execution_count": null,
   "id": "63fd8c21-7f57-440d-9d29-240a4c781b24",
   "metadata": {},
   "outputs": [],
   "source": [
    "set.seed(0)\n",
    "flight_data$ID <- 1:nrow(flight_data)\n",
    "training_flight_data <- sample_n(flight_data, size = nrow(flight_data) * 0.7,\n",
    "  replace = FALSE\n",
    ")\n",
    "\n",
    "testing_flight_data <- anti_join(flight_data,\n",
    "  training_flight_data,\n",
    "  by = \"ID\"\n",
    ")\n",
    "# I now remove the ID variable\n",
    "#flight_data <- flight_data %>% select(-\"ID\")\n",
    "training_flight_data <- training_flight_data %>% select(-\"ID\")\n",
    "testing_flight_data <- testing_flight_data %>% select(-\"ID\")\n",
    "model_matrix_X_train <- \n",
    "    model.matrix(DEPARTURE_DELAY ~ ., data = training_flight_data)[,-1]\n",
    "matrix_Y_train <- \n",
    "    as.matrix(training_flight_data$DEPARTURE_DELAY, ncol = 1)\n",
    "model_matrix_X_test <- \n",
    "    model.matrix(DEPARTURE_DELAY ~ ., data = testing_flight_data)[,-1]\n",
    "matrix_Y_test <- \n",
    "    as.matrix(testing_flight_data$DEPARTURE_DELAY, ncol = 1)\n",
    "training_matrix_data <- as.matrix(training_flight_data)\n",
    "testing_matrix_data <- as.matrix(testing_flight_data)"
   ]
  },
  {
   "cell_type": "markdown",
   "id": "63fcb878-a548-4353-b643-a25484eb1c18",
   "metadata": {},
   "source": [
    "* Installing the `grpreg` package, so that we can generate Lasso models with grouped penalties."
   ]
  },
  {
   "cell_type": "code",
   "execution_count": null,
   "id": "2428409a-4a24-427c-b29a-fea8776bbf2c",
   "metadata": {},
   "outputs": [],
   "source": [
    "library(grpreg)\n",
    "v.group <- c(1,2,3,4,5,6,7,8,8,9,9)"
   ]
  },
  {
   "cell_type": "code",
   "execution_count": null,
   "id": "7df38c43-4f8c-4e6d-b9da-15adddd253ca",
   "metadata": {},
   "outputs": [],
   "source": [
    "fit <- grpreg(model_matrix_X_train, matrix_Y_train, group = v.group, penalty=\"grLasso\")\n",
    "plot(fit)"
   ]
  },
  {
   "cell_type": "markdown",
   "id": "62b18a82-618b-4d5a-907e-046de4a104bf",
   "metadata": {},
   "source": [
    "**Figure 4** Group lasso model for `model_matrix_X_train` and `matrix_Y_train`"
   ]
  },
  {
   "cell_type": "code",
   "execution_count": null,
   "id": "64126666-5580-41d7-ab5d-1461084b627e",
   "metadata": {},
   "outputs": [],
   "source": [
    "set.seed(0)\n",
    "cvfit <- cv.grpreg(model_matrix_X_train, matrix_Y_train, v.group, penalty=\"grLasso\")\n",
    "plot(cvfit)"
   ]
  },
  {
   "cell_type": "markdown",
   "id": "efec91f0-81fd-495f-8111-45a0c1b1268b",
   "metadata": {},
   "source": [
    "**Figure 5**  Group lasso model for `model_matrix_X_train` and `matrix_Y_train` with cross-validation k = 10 "
   ]
  },
  {
   "cell_type": "code",
   "execution_count": null,
   "id": "59be87c3-9383-4a67-949c-fac4cb30395c",
   "metadata": {},
   "outputs": [],
   "source": [
    "summary(cvfit)"
   ]
  },
  {
   "cell_type": "code",
   "execution_count": null,
   "id": "98ecdd6c-ffa2-4cd9-9897-2fe7d3e76af1",
   "metadata": {},
   "outputs": [],
   "source": [
    "cat(\"Lambda.min = \", cvfit$lambda.min)"
   ]
  },
  {
   "cell_type": "markdown",
   "id": "72152064-1b58-4757-9a9c-8764ef4d0cb6",
   "metadata": {},
   "source": [
    "* We fit a grLasso-penalized linear regression with the training data and 14 parameters. When lambda equals to 0.6532, at minimum cross-validation error (lambda=0.6532)"
   ]
  },
  {
   "cell_type": "code",
   "execution_count": null,
   "id": "658aa283-9d1f-4629-824b-7b0a820f8ed7",
   "metadata": {},
   "outputs": [],
   "source": [
    "flight_lasso_min_add <- grpreg(model_matrix_X_train, matrix_Y_train, group = v.group, penalty=\"grLasso\", lambda = cvfit$lambda.min)\n",
    "flight_lasso_min_add$beta"
   ]
  },
  {
   "cell_type": "markdown",
   "id": "f88b650a-8fc7-4439-91e4-1553a74b429e",
   "metadata": {},
   "source": [
    "**Table 4** "
   ]
  },
  {
   "cell_type": "code",
   "execution_count": null,
   "id": "6fec9a4a-e2d8-462b-82eb-ea1b4eb297ae",
   "metadata": {},
   "outputs": [],
   "source": [
    "library(mltools)\n",
    "#OLS FULL REGRESSION & PREDICTION\n",
    "flight_full_OLS_add <- lm(DEPARTURE_DELAY ~., training_flight_data)\n",
    "flight_test_pred_full_OLS_add <- predict(flight_full_OLS_add, newdata = testing_flight_data)\n",
    "\n",
    "flight_test_pred_ridge_min_add <- predict(flight_lasso_min_add,\n",
    "  X = model_matrix_X_test)\n",
    "\n",
    "flight_lasso_RMSE <- tibble(\n",
    "  Model = \"Group Lasso Regression with minimum MSE\",\n",
    "  R_MSE = rmse(\n",
    "    flight_test_pred_ridge_min_add,\n",
    "    testing_flight_data$DEPARTURE_DELAY\n",
    "  )\n",
    ")\n",
    "\n",
    "\n",
    "flight_RMSE_models <- rbind(\n",
    "  flight_lasso_RMSE,\n",
    "  tibble(\n",
    "    Model = \"OLS Full Regression\",\n",
    "    R_MSE = rmse(\n",
    "    flight_test_pred_full_OLS_add,\n",
    "    testing_flight_data$DEPARTURE_DELAY\n",
    "  ))\n",
    ")\n",
    "flight_RMSE_models"
   ]
  },
  {
   "cell_type": "markdown",
   "id": "c012551c-648d-4bf4-a8b6-78305c65d1ab",
   "metadata": {},
   "source": [
    "**Table 5** Summary of Group Lasso Regression with minimum MSE and OLS Full Regression with their corresponding RMSE."
   ]
  },
  {
   "cell_type": "markdown",
   "id": "48c26b62-a3c8-47ab-b669-185327836c44",
   "metadata": {},
   "source": [
    "* Group Lasso Regression with minimum error has a smller RMSE (stronger prediction power) than the OLS full regression as we expected. Therefore we take the group lasso regression with minimum MSE as our prediction model. However, Lasso shrinks predictor variables to 0 which makes this method biased.\n",
    "* We can fix this by applying post-lasso method, which is fitting ordinary least squares on the variables selected by Lasso in the testing dataset."
   ]
  },
  {
   "cell_type": "code",
   "execution_count": null,
   "id": "e33bce4e-911b-4e71-b24b-87a9be66f659",
   "metadata": {},
   "outputs": [],
   "source": [
    "Post_Lasso_model <- lm(DEPARTURE_DELAY ~ DEPARTURE_TIME + ELAPSED_TIME + flight_day_of_week + flight_month \n",
    "                     + flight_day, testing_flight_data)\n",
    "Post_Lasso_model$coefficient"
   ]
  },
  {
   "cell_type": "code",
   "execution_count": null,
   "id": "6fed7edf-6eda-4c52-82d8-d8cf9cdc9842",
   "metadata": {},
   "outputs": [],
   "source": [
    "lasso_vif <-  vif(Post_Lasso_model)\n",
    "lasso_vif"
   ]
  },
  {
   "cell_type": "markdown",
   "id": "c0c89ad6-2027-44a8-8ed1-439340515d36",
   "metadata": {},
   "source": [
    "* By applying Variance Inflation Factor (VIF), we could obseve that all of the selected variables have tiny VIFs, which supports that the group lasso method have solved the multicollinearity problem among the predictor variables in our model."
   ]
  },
  {
   "cell_type": "markdown",
   "id": "3af36014-8447-445a-8ddf-62775df3a874",
   "metadata": {},
   "source": [
    "## 5. Discussion"
   ]
  },
  {
   "cell_type": "markdown",
   "id": "1e657cd9-770e-491d-9a76-8cee9d45da2d",
   "metadata": {},
   "source": [
    "## 6. References"
   ]
  },
  {
   "cell_type": "markdown",
   "id": "476378f4-a7da-40a4-9da4-f567183adaca",
   "metadata": {},
   "source": [
    "Air Transport Action Group (2022). Social and economic benefits of Aviation. (n.d.). https://www.atag.org/our-activities/social-and-economic-benefits-of-aviation.html \n",
    "\n",
    "Trefis Team (2016), What Is The Impact Of Flight Delays? https://www.trefis.com/stock/dal/articles/375013/what-is-the-impact-of-flight-delays/2016-08-31\n",
    "\n",
    "U.S. Department of Transportation (2017, February 9). 2015 flight delays and cancellations. Kaggle. Retrieved November 4, 2022, from https://www.kaggle.com/datasets/usdot/flight-delays \n",
    "\n",
    "Wang, Y., Zhu, J., & Liu, C. (2019). The analysis of the influence of delay absorbing sequence on flight delay propagation. IOP Conference Series: Materials Science and Engineering, 688(2), 022006. https://doi.org/10.1088/1757-899x/688/2/022006 \n",
    "\n",
    "Wikipedia (2022). Delta Air Lines. https://en.wikipedia.org/wiki/Delta_Air_Lines\n"
   ]
  },
  {
   "cell_type": "code",
   "execution_count": null,
   "id": "cf1f0896-de8d-4581-801a-41204b9bcd5b",
   "metadata": {},
   "outputs": [],
   "source": []
  }
 ],
 "metadata": {
  "kernelspec": {
   "display_name": "R",
   "language": "R",
   "name": "ir"
  },
  "language_info": {
   "codemirror_mode": "r",
   "file_extension": ".r",
   "mimetype": "text/x-r-source",
   "name": "R",
   "pygments_lexer": "r",
   "version": "4.1.3"
  }
 },
 "nbformat": 4,
 "nbformat_minor": 5
}
