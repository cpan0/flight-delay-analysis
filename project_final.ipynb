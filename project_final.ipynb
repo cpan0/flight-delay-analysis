{
 "cells": [
  {
   "cell_type": "markdown",
   "id": "137c49e2-cdaa-406a-bdad-df33b764dff4",
   "metadata": {},
   "source": [
    "# <center>Project Proposal: Analysis and Prediction of Flight Delays</center>\n",
    "#### **Authors:** Longfei Guan, Cheng Zhang, Heidi Lantz, Clare Pan\n",
    "#### **Group:** 20"
   ]
  },
  {
   "cell_type": "markdown",
   "id": "f28e2e4a-5d9c-492a-b48d-0add83833581",
   "metadata": {},
   "source": [
    "## 1. Introduction"
   ]
  },
  {
   "cell_type": "markdown",
   "id": "e327a9f9-cc9a-4f4d-a66f-4a1bc49b7e25",
   "metadata": {},
   "source": [
    "In recent years, the air transport industry has grown rapidly. It promotes tourism, generates economic growth, and provides employment opportunities (Air Transport Action Group, 2022). However, there is no denying that flight delays are becoming more frequent. The Federal Aviation Administration (FAA) considers a flight to be delayed if it departs 15 minutes after the scheduled time (Trefis Team, 2016). Delays not only inconvenience passengers but also cost airlines billions of dollars and disrupt airport operations, damaging the airline's reputation (Wang et al., 2019). Because airline industries across the world take up a great part of the global economy, the number of flight delays could have a significant impact on customers’ satisfaction with the airlines. Therefore, it is important to investigate and understand the key factors that can influence flight delays. \n",
    "\n",
    "This project will use the 2015 Flight Delays and Cancellations dataset published by the U.S. Department of Transportation (2017) to investigate the possible variables that are associated with flight delays and make predictions about the average departure time delay based on the conclusion. \n",
    "\n",
    "The dataset includes 14 unique airlines from the United States, but for this project, we will select Delta Airlines as our subject. Delta Airlines is currently the second-largest airline in the world in terms of total U.S. passenger miles and passenger fleet size, and it is a founding member of the SkyTeam alliance, which has more than 325 destinations in 52 countries on six continents (Wikipedia, 2022). We suppose the study of Delta Airlines will be representative and generalizable for the US airline population. We will examine thirteen potential factors from a total of 31 variables that influence airline delays. \n",
    "\n",
    "These 13 variables include `MONTH`, `DAY`, `DAY_OF_WEEK`, `AIRLINE`, `ORIGIN_AIRPORT`, `DESTINATION_AIRPORT`, `SCHEDULED_DEPARTURE`, `DEPARTURE_TIME`, `DEPARTURE_DELAY`, `SCHEDULED_TIME`, `ELAPSED_TIME`, `AIR_TIME`, and `DISTANCE`. After determining which of the 13 factors can affect airplane delay times, we will use these variables to predict delta airline delay time. We mainly selected those variables because the size of the original dataset is too large and factored out the variables that have little to no effect on the final model, such as the airplane’s tail number, whether the flight was cancelled or not, etc. After determining which of the 13 factors can affect airplane delay times, we will use these variables to predict delta airline delay time."
   ]
  },
  {
   "cell_type": "markdown",
   "id": "65147eec-db2e-40f9-8316-bffbfc8157c2",
   "metadata": {},
   "source": [
    "<center><img src=\"image/flight_delay_image.jpeg\"/></center>\n",
    "\n",
    "**Figure 1** Image source: https://www.nortonrosefulbright.com/fr-ca/nrf-transform/client-stories/managing-flight-delay-claims "
   ]
  },
  {
   "cell_type": "markdown",
   "id": "6e897483-fdeb-464f-bcab-968694b61841",
   "metadata": {},
   "source": [
    "- `MONTH`: month of the flight trips\n",
    "- `DAY`: day of the Flight Trip\n",
    "- `DAY_OF_WEEK`: day of week of the flight trip\n",
    "- `AIRLINE`: airline identifier (in our dataset, only one airline: DL (Delta Airlines))\n",
    "- `ORIGIN_AIRPORT`: starting airport\n",
    "- `DESTINATION_AIRPORT`: destination airport\n",
    "- `SCHEDULED_DEPARTUR`: planned departure time (format HHMM or HMM,  where HH or H = hour and MM = minutes)\n",
    "- `DEPARTURE_TIME`: time of departure (format HHMM or HMM)\n",
    "- `DEPARTURE_DELAY`: total delay on departure, in minutes (negative times represent early departures)\n",
    "- `SCHEDULED_TIME`: planned time amount needed for the flight trip, in minutes\n",
    "- `ELAPSED_TIME`: total flight duration, including taking off, air time, and landing, in minutes\n",
    "- `AIR_TIME`: flight duration of the time in air, in minutes \n",
    "- `DISTANCE`: distance between two airports, in miles"
   ]
  },
  {
   "cell_type": "markdown",
   "id": "4d31372d-7670-463b-bcb2-db75219f2a24",
   "metadata": {},
   "source": [
    "## 2. Preliminary Results"
   ]
  },
  {
   "cell_type": "markdown",
   "id": "58ade869-d860-4c35-b1bd-054f52d266f8",
   "metadata": {},
   "source": [
    "### Loading relevant libraries"
   ]
  },
  {
   "cell_type": "code",
   "execution_count": 1,
   "id": "dbfd7e52-02b6-4dc9-8dd6-079ef909c37a",
   "metadata": {},
   "outputs": [
    {
     "name": "stderr",
     "output_type": "stream",
     "text": [
      "── \u001b[1mAttaching packages\u001b[22m ─────────────────────────────────────── tidyverse 1.3.2 ──\n",
      "\u001b[32m✔\u001b[39m \u001b[34mggplot2\u001b[39m 3.3.6      \u001b[32m✔\u001b[39m \u001b[34mpurrr  \u001b[39m 0.3.5 \n",
      "\u001b[32m✔\u001b[39m \u001b[34mtibble \u001b[39m 3.1.8      \u001b[32m✔\u001b[39m \u001b[34mdplyr  \u001b[39m 1.0.10\n",
      "\u001b[32m✔\u001b[39m \u001b[34mtidyr  \u001b[39m 1.2.1      \u001b[32m✔\u001b[39m \u001b[34mstringr\u001b[39m 1.4.1 \n",
      "\u001b[32m✔\u001b[39m \u001b[34mreadr  \u001b[39m 2.1.3      \u001b[32m✔\u001b[39m \u001b[34mforcats\u001b[39m 0.5.2 \n",
      "── \u001b[1mConflicts\u001b[22m ────────────────────────────────────────── tidyverse_conflicts() ──\n",
      "\u001b[31m✖\u001b[39m \u001b[34mdplyr\u001b[39m::\u001b[32mfilter()\u001b[39m masks \u001b[34mstats\u001b[39m::filter()\n",
      "\u001b[31m✖\u001b[39m \u001b[34mdplyr\u001b[39m::\u001b[32mlag()\u001b[39m    masks \u001b[34mstats\u001b[39m::lag()\n",
      "Registered S3 method overwritten by 'GGally':\n",
      "  method from   \n",
      "  +.gg   ggplot2\n",
      "\n"
     ]
    }
   ],
   "source": [
    "library (tidyverse)\n",
    "library (repr)\n",
    "library (infer)\n",
    "library (broom)\n",
    "library (GGally)\n",
    "\n",
    "options(warn=-1)"
   ]
  },
  {
   "cell_type": "markdown",
   "id": "0eecaf11-214a-48e0-9096-fa3d6c5727e6",
   "metadata": {},
   "source": [
    "### Reading & cleaning the datasets"
   ]
  },
  {
   "cell_type": "markdown",
   "id": "b0aa2dff-f0ec-43e9-9309-f5f7737b9f7e",
   "metadata": {},
   "source": [
    "* Since the origianl dataset is too huge(592.4MB), we selected and filtered the variables that we specified in the introduction. Then uploaded the dataset onto Github and loaded the data by read_csv(). "
   ]
  },
  {
   "cell_type": "code",
   "execution_count": 2,
   "id": "77f47ea4-19ba-4ce6-9470-885fabbb17da",
   "metadata": {},
   "outputs": [
    {
     "name": "stderr",
     "output_type": "stream",
     "text": [
      "\u001b[1m\u001b[22mNew names:\n",
      "\u001b[36m•\u001b[39m `` -> `...1`\n",
      "\u001b[1mRows: \u001b[22m\u001b[34m5000\u001b[39m \u001b[1mColumns: \u001b[22m\u001b[34m15\u001b[39m\n",
      "\u001b[36m──\u001b[39m \u001b[1mColumn specification\u001b[22m \u001b[36m────────────────────────────────────────────────────────\u001b[39m\n",
      "\u001b[1mDelimiter:\u001b[22m \",\"\n",
      "\u001b[31mchr\u001b[39m  (3): AIRLINE, ORIGIN_AIRPORT, DESTINATION_AIRPORT\n",
      "\u001b[32mdbl\u001b[39m (12): ...1, replicate, MONTH, DAY, DAY_OF_WEEK, SCHEDULED_DEPARTURE, DEP...\n",
      "\n",
      "\u001b[36mℹ\u001b[39m Use `spec()` to retrieve the full column specification for this data.\n",
      "\u001b[36mℹ\u001b[39m Specify the column types or set `show_col_types = FALSE` to quiet this message.\n"
     ]
    },
    {
     "data": {
      "text/html": [
       "<table class=\"dataframe\">\n",
       "<caption>A tibble: 6 × 12</caption>\n",
       "<thead>\n",
       "\t<tr><th scope=col>MONTH</th><th scope=col>DAY</th><th scope=col>DAY_OF_WEEK</th><th scope=col>ORIGIN_AIRPORT</th><th scope=col>DESTINATION_AIRPORT</th><th scope=col>SCHEDULED_DEPARTURE</th><th scope=col>DEPARTURE_TIME</th><th scope=col>DEPARTURE_DELAY</th><th scope=col>SCHEDULED_TIME</th><th scope=col>ELAPSED_TIME</th><th scope=col>AIR_TIME</th><th scope=col>DISTANCE</th></tr>\n",
       "\t<tr><th scope=col>&lt;dbl&gt;</th><th scope=col>&lt;dbl&gt;</th><th scope=col>&lt;dbl&gt;</th><th scope=col>&lt;chr&gt;</th><th scope=col>&lt;chr&gt;</th><th scope=col>&lt;dbl&gt;</th><th scope=col>&lt;dbl&gt;</th><th scope=col>&lt;dbl&gt;</th><th scope=col>&lt;dbl&gt;</th><th scope=col>&lt;dbl&gt;</th><th scope=col>&lt;dbl&gt;</th><th scope=col>&lt;dbl&gt;</th></tr>\n",
       "</thead>\n",
       "<tbody>\n",
       "\t<tr><td> 2</td><td> 8</td><td>7</td><td>SLC</td><td>OAK</td><td>1505</td><td>1502</td><td>-3</td><td>115</td><td>120</td><td>102</td><td> 588</td></tr>\n",
       "\t<tr><td> 1</td><td>27</td><td>2</td><td>PBI</td><td>DTW</td><td>1330</td><td>1401</td><td>31</td><td>181</td><td>169</td><td>153</td><td>1086</td></tr>\n",
       "\t<tr><td>11</td><td>18</td><td>3</td><td>SLC</td><td>OAK</td><td>1500</td><td>1456</td><td>-4</td><td>110</td><td>106</td><td> 89</td><td> 588</td></tr>\n",
       "\t<tr><td>11</td><td> 2</td><td>1</td><td>DTW</td><td>DEN</td><td>1217</td><td>1210</td><td>-7</td><td>201</td><td>184</td><td>159</td><td>1123</td></tr>\n",
       "\t<tr><td> 4</td><td> 9</td><td>4</td><td>MSY</td><td>ATL</td><td> 715</td><td> 711</td><td>-4</td><td> 89</td><td> 76</td><td> 57</td><td> 425</td></tr>\n",
       "\t<tr><td>12</td><td>20</td><td>7</td><td>ATL</td><td>MEM</td><td>1454</td><td>1453</td><td>-1</td><td> 85</td><td> 68</td><td> 58</td><td> 332</td></tr>\n",
       "</tbody>\n",
       "</table>\n"
      ],
      "text/latex": [
       "A tibble: 6 × 12\n",
       "\\begin{tabular}{llllllllllll}\n",
       " MONTH & DAY & DAY\\_OF\\_WEEK & ORIGIN\\_AIRPORT & DESTINATION\\_AIRPORT & SCHEDULED\\_DEPARTURE & DEPARTURE\\_TIME & DEPARTURE\\_DELAY & SCHEDULED\\_TIME & ELAPSED\\_TIME & AIR\\_TIME & DISTANCE\\\\\n",
       " <dbl> & <dbl> & <dbl> & <chr> & <chr> & <dbl> & <dbl> & <dbl> & <dbl> & <dbl> & <dbl> & <dbl>\\\\\n",
       "\\hline\n",
       "\t  2 &  8 & 7 & SLC & OAK & 1505 & 1502 & -3 & 115 & 120 & 102 &  588\\\\\n",
       "\t  1 & 27 & 2 & PBI & DTW & 1330 & 1401 & 31 & 181 & 169 & 153 & 1086\\\\\n",
       "\t 11 & 18 & 3 & SLC & OAK & 1500 & 1456 & -4 & 110 & 106 &  89 &  588\\\\\n",
       "\t 11 &  2 & 1 & DTW & DEN & 1217 & 1210 & -7 & 201 & 184 & 159 & 1123\\\\\n",
       "\t  4 &  9 & 4 & MSY & ATL &  715 &  711 & -4 &  89 &  76 &  57 &  425\\\\\n",
       "\t 12 & 20 & 7 & ATL & MEM & 1454 & 1453 & -1 &  85 &  68 &  58 &  332\\\\\n",
       "\\end{tabular}\n"
      ],
      "text/markdown": [
       "\n",
       "A tibble: 6 × 12\n",
       "\n",
       "| MONTH &lt;dbl&gt; | DAY &lt;dbl&gt; | DAY_OF_WEEK &lt;dbl&gt; | ORIGIN_AIRPORT &lt;chr&gt; | DESTINATION_AIRPORT &lt;chr&gt; | SCHEDULED_DEPARTURE &lt;dbl&gt; | DEPARTURE_TIME &lt;dbl&gt; | DEPARTURE_DELAY &lt;dbl&gt; | SCHEDULED_TIME &lt;dbl&gt; | ELAPSED_TIME &lt;dbl&gt; | AIR_TIME &lt;dbl&gt; | DISTANCE &lt;dbl&gt; |\n",
       "|---|---|---|---|---|---|---|---|---|---|---|---|\n",
       "|  2 |  8 | 7 | SLC | OAK | 1505 | 1502 | -3 | 115 | 120 | 102 |  588 |\n",
       "|  1 | 27 | 2 | PBI | DTW | 1330 | 1401 | 31 | 181 | 169 | 153 | 1086 |\n",
       "| 11 | 18 | 3 | SLC | OAK | 1500 | 1456 | -4 | 110 | 106 |  89 |  588 |\n",
       "| 11 |  2 | 1 | DTW | DEN | 1217 | 1210 | -7 | 201 | 184 | 159 | 1123 |\n",
       "|  4 |  9 | 4 | MSY | ATL |  715 |  711 | -4 |  89 |  76 |  57 |  425 |\n",
       "| 12 | 20 | 7 | ATL | MEM | 1454 | 1453 | -1 |  85 |  68 |  58 |  332 |\n",
       "\n"
      ],
      "text/plain": [
       "  MONTH DAY DAY_OF_WEEK ORIGIN_AIRPORT DESTINATION_AIRPORT SCHEDULED_DEPARTURE\n",
       "1  2     8  7           SLC            OAK                 1505               \n",
       "2  1    27  2           PBI            DTW                 1330               \n",
       "3 11    18  3           SLC            OAK                 1500               \n",
       "4 11     2  1           DTW            DEN                 1217               \n",
       "5  4     9  4           MSY            ATL                  715               \n",
       "6 12    20  7           ATL            MEM                 1454               \n",
       "  DEPARTURE_TIME DEPARTURE_DELAY SCHEDULED_TIME ELAPSED_TIME AIR_TIME DISTANCE\n",
       "1 1502           -3              115            120          102       588    \n",
       "2 1401           31              181            169          153      1086    \n",
       "3 1456           -4              110            106           89       588    \n",
       "4 1210           -7              201            184          159      1123    \n",
       "5  711           -4               89             76           57       425    \n",
       "6 1453           -1               85             68           58       332    "
      ]
     },
     "metadata": {},
     "output_type": "display_data"
    }
   ],
   "source": [
    "flight_data <- read_csv(\"delta_flights.csv\")\n",
    "flight_data <- flight_data[complete.cases(flight_data), ] %>%\n",
    "  select(-...1,- replicate,-AIRLINE)\n",
    "head(flight_data)"
   ]
  },
  {
   "cell_type": "markdown",
   "id": "5654a5b1-72cd-4dda-af6a-5e2d41015476",
   "metadata": {},
   "source": [
    "**Table 1:** Modified version of the Flight Delay dataset. "
   ]
  },
  {
   "cell_type": "code",
   "execution_count": 3,
   "id": "37de655e-a2a4-4bd8-8ef8-bd6abb5cb443",
   "metadata": {},
   "outputs": [
    {
     "name": "stdout",
     "output_type": "stream",
     "text": [
      "Number of Origin Airport levels = 231"
     ]
    }
   ],
   "source": [
    "# total levels of the origin airport\n",
    "cat(\"Number of Origin Airport levels =\", nrow(count(flight_data, ORIGIN_AIRPORT)))"
   ]
  },
  {
   "cell_type": "code",
   "execution_count": 4,
   "id": "3cc3c2df-ea57-48a3-9c64-75645da6f947",
   "metadata": {},
   "outputs": [
    {
     "data": {
      "text/html": [
       "<table class=\"dataframe\">\n",
       "<caption>A data.frame: 3 × 3</caption>\n",
       "<thead>\n",
       "\t<tr><th scope=col>ORIGIN_AIRPORT</th><th scope=col>n</th><th scope=col>mean</th></tr>\n",
       "\t<tr><th scope=col>&lt;chr&gt;</th><th scope=col>&lt;int&gt;</th><th scope=col>&lt;dbl&gt;</th></tr>\n",
       "</thead>\n",
       "<tbody>\n",
       "\t<tr><td>ATL</td><td>1273</td><td> 7.787117</td></tr>\n",
       "\t<tr><td>DTW</td><td> 304</td><td>10.582237</td></tr>\n",
       "\t<tr><td>MSP</td><td> 321</td><td> 6.607477</td></tr>\n",
       "</tbody>\n",
       "</table>\n"
      ],
      "text/latex": [
       "A data.frame: 3 × 3\n",
       "\\begin{tabular}{lll}\n",
       " ORIGIN\\_AIRPORT & n & mean\\\\\n",
       " <chr> & <int> & <dbl>\\\\\n",
       "\\hline\n",
       "\t ATL & 1273 &  7.787117\\\\\n",
       "\t DTW &  304 & 10.582237\\\\\n",
       "\t MSP &  321 &  6.607477\\\\\n",
       "\\end{tabular}\n"
      ],
      "text/markdown": [
       "\n",
       "A data.frame: 3 × 3\n",
       "\n",
       "| ORIGIN_AIRPORT &lt;chr&gt; | n &lt;int&gt; | mean &lt;dbl&gt; |\n",
       "|---|---|---|\n",
       "| ATL | 1273 |  7.787117 |\n",
       "| DTW |  304 | 10.582237 |\n",
       "| MSP |  321 |  6.607477 |\n",
       "\n"
      ],
      "text/plain": [
       "  ORIGIN_AIRPORT n    mean     \n",
       "1 ATL            1273  7.787117\n",
       "2 DTW             304 10.582237\n",
       "3 MSP             321  6.607477"
      ]
     },
     "metadata": {},
     "output_type": "display_data"
    }
   ],
   "source": [
    "# top 3 origin airports with their mean delay time\n",
    "top_3_Origin_Airport_Counts <- count(flight_data, ORIGIN_AIRPORT) %>% filter(n >300)\n",
    "top_3_Origin_Airport <- flight_data %>% \n",
    "filter (ORIGIN_AIRPORT == \"ATL\" | ORIGIN_AIRPORT == \"DTW\" | ORIGIN_AIRPORT == \"MSP\") %>%\n",
    "group_by(ORIGIN_AIRPORT) %>%\n",
    "summarize(mean = mean(DEPARTURE_DELAY))\n",
    "cbind(top_3_Origin_Airport_Counts,top_3_Origin_Airport[,2])"
   ]
  },
  {
   "cell_type": "markdown",
   "id": "262f87a1-9bf1-446a-a45f-2d863483c2ef",
   "metadata": {},
   "source": [
    "**Table 2** Number of delayed flights and the average minutes of departure delay for the top 3 *origin airports* with the most data."
   ]
  },
  {
   "cell_type": "code",
   "execution_count": 5,
   "id": "1b1899b2-8753-4ae9-bb8a-6efa68e89748",
   "metadata": {},
   "outputs": [
    {
     "name": "stdout",
     "output_type": "stream",
     "text": [
      "Number of Destination Airport levels = 229"
     ]
    }
   ],
   "source": [
    "# total levels of the destination airport\n",
    "cat(\"Number of Destination Airport levels =\", nrow(count(flight_data, DESTINATION_AIRPORT)))"
   ]
  },
  {
   "cell_type": "code",
   "execution_count": 6,
   "id": "2235a928-a40d-4038-acc9-4cec75dee76a",
   "metadata": {},
   "outputs": [
    {
     "data": {
      "text/html": [
       "<table class=\"dataframe\">\n",
       "<caption>A data.frame: 3 × 3</caption>\n",
       "<thead>\n",
       "\t<tr><th scope=col>DESTINATION_AIRPORT</th><th scope=col>n</th><th scope=col>mean</th></tr>\n",
       "\t<tr><th scope=col>&lt;chr&gt;</th><th scope=col>&lt;int&gt;</th><th scope=col>&lt;dbl&gt;</th></tr>\n",
       "</thead>\n",
       "<tbody>\n",
       "\t<tr><td>ATL</td><td>1237</td><td>6.822150</td></tr>\n",
       "\t<tr><td>DTW</td><td> 316</td><td>5.446203</td></tr>\n",
       "\t<tr><td>MSP</td><td> 336</td><td>6.601190</td></tr>\n",
       "</tbody>\n",
       "</table>\n"
      ],
      "text/latex": [
       "A data.frame: 3 × 3\n",
       "\\begin{tabular}{lll}\n",
       " DESTINATION\\_AIRPORT & n & mean\\\\\n",
       " <chr> & <int> & <dbl>\\\\\n",
       "\\hline\n",
       "\t ATL & 1237 & 6.822150\\\\\n",
       "\t DTW &  316 & 5.446203\\\\\n",
       "\t MSP &  336 & 6.601190\\\\\n",
       "\\end{tabular}\n"
      ],
      "text/markdown": [
       "\n",
       "A data.frame: 3 × 3\n",
       "\n",
       "| DESTINATION_AIRPORT &lt;chr&gt; | n &lt;int&gt; | mean &lt;dbl&gt; |\n",
       "|---|---|---|\n",
       "| ATL | 1237 | 6.822150 |\n",
       "| DTW |  316 | 5.446203 |\n",
       "| MSP |  336 | 6.601190 |\n",
       "\n"
      ],
      "text/plain": [
       "  DESTINATION_AIRPORT n    mean    \n",
       "1 ATL                 1237 6.822150\n",
       "2 DTW                  316 5.446203\n",
       "3 MSP                  336 6.601190"
      ]
     },
     "metadata": {},
     "output_type": "display_data"
    }
   ],
   "source": [
    "# top 3 destination airports with their mean delay time\n",
    "top_3_Destination_Airport_Counts <- count(flight_data, DESTINATION_AIRPORT) %>% filter(n >300)\n",
    "top_3_Destination_Airport <- flight_data %>% \n",
    "filter (DESTINATION_AIRPORT == \"ATL\" | DESTINATION_AIRPORT == \"DTW\" | DESTINATION_AIRPORT == \"MSP\") %>%\n",
    "group_by(DESTINATION_AIRPORT) %>%\n",
    "summarize(mean = mean(DEPARTURE_DELAY))\n",
    "cbind(top_3_Destination_Airport_Counts,top_3_Destination_Airport[,2])"
   ]
  },
  {
   "cell_type": "markdown",
   "id": "04e359b3-d0fe-4219-b052-967ea2580383",
   "metadata": {},
   "source": [
    "**Table 3** Number of delayed flights and the average minutes of departure delay for the top 3 *destination airports* with the most data."
   ]
  },
  {
   "cell_type": "markdown",
   "id": "ada07b2c-3b70-47e2-9012-fdd357a2da23",
   "metadata": {},
   "source": [
    "* We begin by checking for the association of the explanatory variables with the response variables. ggparis() could help us visualize it.\n",
    "* There are too many distinct values in ORIGIN_AIRPORT and DESTINATION_AIRPORT, so we filter out these two categorical variables."
   ]
  },
  {
   "cell_type": "code",
   "execution_count": null,
   "id": "1be27d21-7400-40f7-a409-3a3f4595111a",
   "metadata": {},
   "outputs": [],
   "source": [
    "options(repr.plot.width = 25, repr.plot.height = 20)\n",
    "flight_pair_plots <- flight_data %>%\n",
    "  select(- ORIGIN_AIRPORT,- DESTINATION_AIRPORT) %>% \n",
    "  ggpairs(progress = FALSE) +\n",
    "  theme(\n",
    "    text = element_text(size = 15),\n",
    "    plot.title = element_text(face = \"bold\"),\n",
    "    axis.title = element_text(face = \"bold\")\n",
    "  )\n",
    "flight_pair_plots"
   ]
  },
  {
   "cell_type": "markdown",
   "id": "45631519-cfc6-44eb-beda-ed3f971dc176",
   "metadata": {},
   "source": [
    "**Figure 2** Pair plot for explanatory and response variables of `flight_data`"
   ]
  },
  {
   "cell_type": "markdown",
   "id": "e288d045-b2d8-43cb-b3fd-1fe89040e8f1",
   "metadata": {},
   "source": [
    "* DEPARTURE_DELAY is weakly correlated with all explanatory variables except for SCHEDULED_DEPARTURE and DEPARTURE_TIME.\n",
    "* DEPARTURE_DELAY has a correlation coefficient value of 0.083 and 0.106 with SCHEDULED_DEPARTURE and DEPARTURE_TIME, respectively. The correlation coefficient value between DEPARTURE_DELAY and other explanatory variables are < 0.01."
   ]
  },
  {
   "cell_type": "markdown",
   "id": "cdf9e9c6-74fc-46d9-b2b9-a6c7cbad79c8",
   "metadata": {},
   "source": [
    "### Exploratory Data Analysis"
   ]
  },
  {
   "cell_type": "markdown",
   "id": "2df0f02c-a88b-4127-bf01-299fa0b652f3",
   "metadata": {},
   "source": [
    "* We did the similar things here but we only compared explanatory variables.\n",
    "* This will help us diagnose if there is multicollinearity issue in our model."
   ]
  },
  {
   "cell_type": "code",
   "execution_count": null,
   "id": "17234856-4039-4c84-a9fc-8f7b35ae8f1a",
   "metadata": {},
   "outputs": [],
   "source": [
    "# In order to analysis the correlation between DEPARTURE_DELAY and the rest continous variables,\n",
    "# I fliter out all categorical variables.\n",
    "corr_matrix_flight <- flight_data %>%\n",
    "  select(- ORIGIN_AIRPORT, - DESTINATION_AIRPORT,) %>% \n",
    "  cor() %>%\n",
    "  as.data.frame() %>%\n",
    "  rownames_to_column(\"var1\") %>%\n",
    "  pivot_longer(-var1, names_to = \"var2\", values_to = \"corr\")"
   ]
  },
  {
   "cell_type": "code",
   "execution_count": null,
   "id": "e89625de-c2f0-4dba-96c5-456e6a14e72f",
   "metadata": {},
   "outputs": [],
   "source": [
    "options(repr.plot.width = 15, repr.plot.height = 10)\n",
    "corr_matrix_flight_plot <- corr_matrix_flight %>%\n",
    "  ggplot(aes(var1, var2)) +\n",
    "  geom_tile(aes(fill = corr), color = \"white\") +\n",
    "  scale_fill_distiller(\"Correlation Coefficient \\n\",\n",
    "    palette =  \"PuBu\",\n",
    "    direction = 1, limits = c(-1,1)\n",
    "  ) +\n",
    "  labs(x = \"Input Variable One\", y = \"Input Variable Two\") +\n",
    "  theme_minimal() +\n",
    "  theme(\n",
    "    axis.text.x = element_text(\n",
    "      angle = 45, vjust = 1,\n",
    "      size = 18, hjust = 1\n",
    "    ),\n",
    "    axis.text.y = element_text(\n",
    "      vjust = 1,\n",
    "      size = 18, hjust = 1\n",
    "    ),\n",
    "    legend.title = element_text(size = 18, face = \"bold\"),\n",
    "    legend.text = element_text(size = 18),\n",
    "    legend.key.size = unit(2, \"cm\")\n",
    "  ) +\n",
    "  coord_fixed() +\n",
    "  geom_text(aes(var1, var2, label = round(corr, 2)), color = \"black\", size = 6)\n",
    "corr_matrix_flight_plot"
   ]
  },
  {
   "cell_type": "markdown",
   "id": "8257045d-a5e2-4db1-8642-6eb809f188cf",
   "metadata": {},
   "source": [
    "**Figure 3** Correlation tiles between different inputs of `flight_data` variables. The darker values of blue shows that the corresponding input variable 1 and 2 have a strong positive correlation."
   ]
  },
  {
   "cell_type": "markdown",
   "id": "952539bd-9233-4b58-ab90-8f95a04e703f",
   "metadata": {},
   "source": [
    "* There are several strong positive correlations in the graph, which suggests that there are multicollinearity among the explanatory variables."
   ]
  },
  {
   "cell_type": "markdown",
   "id": "ab3fbbd5-84cc-4bcf-8ffa-f58667400cbb",
   "metadata": {
    "tags": []
   },
   "source": [
    "### Summary Table"
   ]
  },
  {
   "cell_type": "markdown",
   "id": "d10dec92-bec2-44c0-9be4-be71ec17df12",
   "metadata": {},
   "source": [
    "* We applied gather() to convert the dataset into a long format, then used summarise() to obtain summary statistic for all interested variables."
   ]
  },
  {
   "cell_type": "code",
   "execution_count": null,
   "id": "297b8a23-8714-4ecf-8f6a-4c72c0f53e07",
   "metadata": {},
   "outputs": [],
   "source": [
    "flight_data_long <- flight_data %>%\n",
    "  select(-ORIGIN_AIRPORT,-DESTINATION_AIRPORT) %>%\n",
    "  gather(factor_key=TRUE)\n",
    "flight_data_stats <- flight_data_long %>% group_by(key) %>%\n",
    "  summarise(mean= mean(value), sd= sd(value), max = max(value),min = min(value))\n",
    "flight_data_stats"
   ]
  },
  {
   "cell_type": "markdown",
   "id": "0e3114f7-a005-43f2-a032-ab78dfcaf350",
   "metadata": {},
   "source": [
    "**Table 2:** Summary statistics for all variables in `flight_data` "
   ]
  },
  {
   "cell_type": "markdown",
   "id": "36f69631-5f91-4983-a7cb-88e0fb6ceb41",
   "metadata": {},
   "source": [
    "* Since variables `MONTH`, `DAY`, and `DAY_OF_WEEK` are discrete variables, we descide to convert them into several binary variable in order for fitting the model.\n",
    "* We convert variable `MONTH` into two binary variables: `SPRING`(1 <= MONTH <= 4), `SUMMER`(5 <= MONTH <= 8), and `WINTER`(9 <= MONTH <= 12).\n",
    "* We convert variable `DAY` into three binary variables: `START_OF_MONTH`(1 <= DAY <= 10), `MIDDLE_OF_MONTH`(11 <= DAY <= 20), and `END_OF_MONTH`(21 <= DAY <= 31).\n",
    "* We convert variable `DAY_OF_WEEK` into two variables: `BUSINESS_DAY`(1 <= DAY_OF_WEEK <= 5), and `HOILDAY`(6 <=  DAY_OF_WEEK <= 7)."
   ]
  },
  {
   "cell_type": "code",
   "execution_count": null,
   "id": "706ce5c5-1907-407d-bbbe-cb85fed71add",
   "metadata": {},
   "outputs": [],
   "source": [
    "nrows <- nrow(flight_data)\n",
    "SPRING <- double(nrows);SUMMER <- double(nrows);WINTER <- double(nrows); START_OF_MONTH <- double(nrows)\n",
    "MIDDLE_OF_MONTH <- double(nrows); END_OF_MONTH <- double(nrows) ;BUSINESS_DAY <- double(nrows); HOILDAY <- double(nrows)\n",
    "flight_data <- cbind(flight_data, SPRING, SUMMER, WINTER, START_OF_MONTH, MIDDLE_OF_MONTH,\n",
    "                     END_OF_MONTH, BUSINESS_DAY, HOILDAY)\n",
    "flight_data <- \n",
    "    flight_data %>% \n",
    "    mutate(START_OF_MONTH = ifelse(DAY >= 1 & DAY <= 10, 1, 0)) %>% \n",
    "    mutate(MIDDLE_OF_MONTH = ifelse(DAY >= 11 & DAY <= 20, 1, 0)) %>% \n",
    "    mutate(END_OF_MONTH = ifelse(DAY >= 21 & DAY <= 31, 1, 0)) %>% \n",
    "    mutate(SPRING = ifelse(MONTH >= 1 & MONTH <= 4, 1, 0)) %>% \n",
    "    mutate(SUMMER = ifelse(MONTH >= 5 & MONTH <= 8, 1, 0)) %>% \n",
    "    mutate(WINTER = ifelse(MONTH >= 9 & MONTH <= 12, 1, 0)) %>% \n",
    "    mutate(BUSINESS_DAY = ifelse(DAY_OF_WEEK >= 1 & DAY_OF_WEEK <= 5, 1, 0)) %>% \n",
    "    mutate(HOILDAY = ifelse(DAY_OF_WEEK >= 6 & DAY_OF_WEEK <= 7, 1, 0)) %>%\n",
    "    select(-DAY,- MONTH,-DAY_OF_WEEK,-ORIGIN_AIRPORT,-DESTINATION_AIRPORT)"
   ]
  },
  {
   "cell_type": "code",
   "execution_count": null,
   "id": "63fd8c21-7f57-440d-9d29-240a4c781b24",
   "metadata": {},
   "outputs": [],
   "source": [
    "set.seed(0)\n",
    "flight_data$ID <- 1:nrow(flight_data)\n",
    "training_flight_data <- sample_n(flight_data, size = nrow(flight_data) * 0.7,\n",
    "  replace = FALSE\n",
    ")\n",
    "\n",
    "testing_flight_data <- anti_join(flight_data,\n",
    "  training_flight_data,\n",
    "  by = \"ID\"\n",
    ")\n",
    "# I now remove the ID variable\n",
    "\n",
    "training_flight_data <- training_flight_data %>% select(-\"ID\")\n",
    "testing_flight_data <- testing_flight_data %>% select(-\"ID\")\n",
    "model_matrix_X_train <- \n",
    "    model.matrix(DEPARTURE_DELAY ~ ., data = training_flight_data)[,-1]\n",
    "matrix_Y_train <- \n",
    "    as.matrix(training_flight_data$DEPARTURE_DELAY, ncol = 1)\n",
    "model_matrix_X_test <- \n",
    "    model.matrix(DEPARTURE_DELAY ~ ., data = testing_flight_data)[,-1]\n",
    "matrix_Y_test <- \n",
    "    as.matrix(testing_flight_data$DEPARTURE_DELAY, ncol = 1)"
   ]
  },
  {
   "cell_type": "code",
   "execution_count": null,
   "id": "2428409a-4a24-427c-b29a-fea8776bbf2c",
   "metadata": {},
   "outputs": [],
   "source": [
    "set.seed(0)\n",
    "library(grpreg)\n",
    "v.group <- c(1,2,3,4,5,6,7,7,7,8,8,8,9,9)\n",
    "fit <- grpreg(model_matrix_X_train, matrix_Y_train, group = v.group, penalty=\"grLasso\")\n",
    "plot(fit)\n",
    "cvfit <- cv.grpreg(model_matrix_X_train, matrix_Y_train, v.group, penalty=\"grLasso\")\n",
    "plot(cvfit)"
   ]
  },
  {
   "cell_type": "code",
   "execution_count": null,
   "id": "59be87c3-9383-4a67-949c-fac4cb30395c",
   "metadata": {},
   "outputs": [],
   "source": [
    "summary(cvfit)\n",
    "cvfit$lambda.min"
   ]
  },
  {
   "cell_type": "markdown",
   "id": "72152064-1b58-4757-9a9c-8764ef4d0cb6",
   "metadata": {},
   "source": [
    "We fit a grLasso-penalized linear regression with the training data and 14 parameters. Whenlambda equals to 0.6401, at minimum cross-validation error (lambda=0.6401)"
   ]
  },
  {
   "cell_type": "code",
   "execution_count": null,
   "id": "658aa283-9d1f-4629-824b-7b0a820f8ed7",
   "metadata": {},
   "outputs": [],
   "source": [
    "flight_lasso_min_add <- grpreg(model_matrix_X_train, matrix_Y_train, group = v.group, penalty=\"grLasso\", lambda = cvfit$lambda.min)\n",
    "flight_lasso_min_add$beta"
   ]
  },
  {
   "cell_type": "code",
   "execution_count": null,
   "id": "6fec9a4a-e2d8-462b-82eb-ea1b4eb297ae",
   "metadata": {},
   "outputs": [],
   "source": [
    "library(mltools)\n",
    "#OLS FULL REGRESSION & PREDICTION\n",
    "flight_full_OLS_add <- lm(DEPARTURE_DELAY ~., training_flight_data)\n",
    "flight_test_pred_full_OLS_add <- predict(flight_full_OLS_add, newdata = testing_flight_data)\n",
    "\n",
    "flight_test_pred_ridge_min_add <- predict(flight_lasso_min_add,\n",
    "  X = model_matrix_X_test)\n",
    "\n",
    "fat_R_MSE_models <- tibble(\n",
    "  Model = \"Group Lasso Regression with minimum MSE\",\n",
    "  R_MSE = rmse(\n",
    "    flight_test_pred_ridge_min_add,\n",
    "    testing_flight_data$DEPARTURE_DELAY\n",
    "  )\n",
    ")\n",
    "\n",
    "\n",
    "flight_R_MSE_models <- rbind(\n",
    "  fat_R_MSE_models,\n",
    "  tibble(\n",
    "    Model = \"OLS Full Regression\",\n",
    "    R_MSE = rmse(\n",
    "    flight_test_pred_full_OLS_add,\n",
    "    testing_flight_data$DEPARTURE_DELAY\n",
    "  ))\n",
    ")\n",
    "flight_R_MSE_models"
   ]
  },
  {
   "cell_type": "markdown",
   "id": "48c26b62-a3c8-47ab-b669-185327836c44",
   "metadata": {},
   "source": [
    "Group Lasso Regression with minimum error has a smller RMSE than the ols full regression as we expected. Therefore we take the group lasso regression as our prediction model."
   ]
  },
  {
   "cell_type": "code",
   "execution_count": null,
   "id": "7565d671-aac0-4311-91d5-0215155ee32f",
   "metadata": {},
   "outputs": [],
   "source": []
  },
  {
   "cell_type": "markdown",
   "id": "43954f84-7358-43aa-bdab-c35704d30f3a",
   "metadata": {},
   "source": [
    "## 3. Methods"
   ]
  },
  {
   "cell_type": "markdown",
   "id": "13af1450-414e-4b0f-a631-f91f06238344",
   "metadata": {},
   "source": [
    "In our analysis, we are predicting average flight delays for Delta’s airline in 2015. In this report, we began by loading our dataset from Kaggle, and tidying the data in order to select the variables and columns that we are investigating. For initial visualizations, we began by checking the correlation of variables, as we want to see which variables would be best to predict departure delay time. We made a correlation matrix plot which shows us that some variables are highly correlated. We could also tell that there exist some high amounts of multicollinearity between certain variables. We believe that this report is trustworthy because we have collected real data from a very large data set. From a sample of over 800,000 individual samples, we took a random sample of 5,000 to make sure we do not have a biased sample. We also believe that since there is so much data, we can generate an accurate model that will allow us to have accurate predictions on delay time in flights. We will also be able to test our model to see how accurately it can predict departure delay.\n",
    "\n",
    "We plan on making a generative model to determine flight delay time, as well as confidence intervals to determine how accurate our model is. We will be splitting our data set into test and training data, and then using a forward stepwise selection process to determine the most accurate model we can make. From there, we can make our best fit model and then test how well we are able to predict departure delay time.\n",
    "\n",
    "We hope to achieve an accurate model that correctly predicts flight delays. This way, we can make true evaluations on flights with Delta and how likely your flight is to be delayed. This leads to a large impact because everyone can use this data in their own lives. For example, if we find that one airport location is a lot more likely to be delayed with delta, we may be more cautious and avoid flying there for a layover. Furthermore, you can use these calculations to compare with other airline companies to figure out which airline is the most reliable and has the least flight delays. Many applications are useful with this information and our analysis. Overall, this analysis creates a huge impact because flights are common and understanding the reasoning behind flight delays is extremely helpful.\n"
   ]
  },
  {
   "cell_type": "markdown",
   "id": "1e657cd9-770e-491d-9a76-8cee9d45da2d",
   "metadata": {},
   "source": [
    "## 4. References"
   ]
  },
  {
   "cell_type": "markdown",
   "id": "476378f4-a7da-40a4-9da4-f567183adaca",
   "metadata": {},
   "source": [
    "Air Transport Action Group (2022). Social and economic benefits of Aviation. (n.d.). https://www.atag.org/our-activities/social-and-economic-benefits-of-aviation.html \n",
    "\n",
    "Trefis Team (2016), What Is The Impact Of Flight Delays? https://www.trefis.com/stock/dal/articles/375013/what-is-the-impact-of-flight-delays/2016-08-31\n",
    "\n",
    "U.S. Department of Transportation (2017, February 9). 2015 flight delays and cancellations. Kaggle. Retrieved November 4, 2022, from https://www.kaggle.com/datasets/usdot/flight-delays \n",
    "\n",
    "Wang, Y., Zhu, J., & Liu, C. (2019). The analysis of the influence of delay absorbing sequence on flight delay propagation. IOP Conference Series: Materials Science and Engineering, 688(2), 022006. https://doi.org/10.1088/1757-899x/688/2/022006 \n",
    "\n",
    "Wikipedia (2022). Delta Air Lines. https://en.wikipedia.org/wiki/Delta_Air_Lines\n"
   ]
  },
  {
   "cell_type": "code",
   "execution_count": null,
   "id": "cf1f0896-de8d-4581-801a-41204b9bcd5b",
   "metadata": {},
   "outputs": [],
   "source": []
  }
 ],
 "metadata": {
  "kernelspec": {
   "display_name": "R",
   "language": "R",
   "name": "ir"
  },
  "language_info": {
   "codemirror_mode": "r",
   "file_extension": ".r",
   "mimetype": "text/x-r-source",
   "name": "R",
   "pygments_lexer": "r",
   "version": "4.1.3"
  }
 },
 "nbformat": 4,
 "nbformat_minor": 5
}
